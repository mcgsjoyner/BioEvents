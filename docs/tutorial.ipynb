{
 "cells": [
  {
   "cell_type": "code",
   "execution_count": null,
   "outputs": [],
   "source": [
    "from bioevents import event_handling, hypnogram\n",
    "import matplotlib.pyplot as plt\n",
    "import numpy as np"
   ],
   "metadata": {
    "collapsed": false,
    "pycharm": {
     "name": "#%%\n",
     "is_executing": true
    }
   }
  },
  {
   "cell_type": "markdown",
   "id": "393b8fce",
   "metadata": {
    "pycharm": {
     "name": "#%% md\n"
    }
   },
   "source": [
    "# The Event class"
   ]
  },
  {
   "cell_type": "code",
   "execution_count": null,
   "id": "02851719",
   "metadata": {
    "pycharm": {
     "name": "#%%\n"
    }
   },
   "outputs": [],
   "source": [
    "help(event_handling.Event.__init__)"
   ]
  },
  {
   "cell_type": "markdown",
   "id": "048f39f3",
   "metadata": {
    "pycharm": {
     "name": "#%% md\n"
    }
   },
   "source": [
    "Define two events that happened between timestamps 20 and 100, and 120 and 126, respectively"
   ]
  },
  {
   "cell_type": "code",
   "execution_count": null,
   "id": "d9274262",
   "metadata": {
    "pycharm": {
     "name": "#%%\n"
    }
   },
   "outputs": [],
   "source": [
    "event_a = event_handling.Event(on=20, off=100)\n",
    "event_b = event_handling.Event(on=120, off=126)\n",
    "event_c = event_handling.Event(on=125, off=130)"
   ]
  },
  {
   "cell_type": "markdown",
   "id": "f1b2bde5",
   "metadata": {
    "pycharm": {
     "name": "#%% md\n"
    }
   },
   "source": [
    "Find the duration of each event"
   ]
  },
  {
   "cell_type": "code",
   "execution_count": null,
   "id": "1029c32e",
   "metadata": {
    "pycharm": {
     "name": "#%%\n"
    }
   },
   "outputs": [],
   "source": [
    "print(event_a.duration)\n",
    "print(event_b.duration)\n",
    "print(event_c.duration)"
   ]
  },
  {
   "cell_type": "markdown",
   "id": "fbc63681",
   "metadata": {
    "pycharm": {
     "name": "#%% md\n"
    }
   },
   "source": [
    "### Overlap analysis"
   ]
  },
  {
   "cell_type": "markdown",
   "id": "faa45995",
   "metadata": {
    "pycharm": {
     "name": "#%% md\n"
    }
   },
   "source": [
    "The Event class can be directly compared to another event via the \"overlaps\" function. This configurable behavior will form the basis of more complex time series analyses we will do at a higher level."
   ]
  },
  {
   "cell_type": "code",
   "execution_count": null,
   "id": "e16c9940",
   "metadata": {
    "pycharm": {
     "name": "#%%\n"
    }
   },
   "outputs": [],
   "source": [
    "help(event_handling.Event.overlaps)"
   ]
  },
  {
   "cell_type": "code",
   "execution_count": null,
   "id": "4cff2809",
   "metadata": {
    "pycharm": {
     "name": "#%%\n"
    }
   },
   "outputs": [],
   "source": [
    "print(f\"{event_a} overlaps {event_b}: {event_a.overlaps(event_b)}\")\n",
    "print(f\"{event_b} overlaps {event_c}: {event_b.overlaps(event_c)}\")"
   ]
  },
  {
   "cell_type": "markdown",
   "id": "1bc0cb0e",
   "metadata": {
    "pycharm": {
     "name": "#%% md\n"
    }
   },
   "source": [
    "As noted in the docstring, the \"overlaps\" function is governed by the \"OverlapTolerances\" class. By default, any contemporaneity of one or more samples is considered a viable overlap. For example, this is consistent with `\"Seizure Detection\", Mark L. Scheuer et al., 2021`"
   ]
  },
  {
   "cell_type": "code",
   "execution_count": null,
   "id": "9c4b988c",
   "metadata": {
    "pycharm": {
     "name": "#%%\n"
    }
   },
   "outputs": [],
   "source": [
    "event_a.tolerances"
   ]
  },
  {
   "cell_type": "markdown",
   "id": "a2804d10",
   "metadata": {
    "pycharm": {
     "name": "#%% md\n"
    }
   },
   "source": [
    "We could be a little more strict, by dictating that the onsets of any \"overlapping\" Events must be within \"diff_on\" samples of event_b:"
   ]
  },
  {
   "cell_type": "code",
   "execution_count": null,
   "id": "dedd1019",
   "metadata": {
    "pycharm": {
     "name": "#%%\n"
    }
   },
   "outputs": [],
   "source": [
    "event_b.tolerances.diff_on = 3\n",
    "print(f\"{event_b} overlaps {event_c}: {event_b.overlaps(event_c)}\")"
   ]
  },
  {
   "cell_type": "markdown",
   "id": "cdca23e7",
   "metadata": {
    "pycharm": {
     "name": "#%% md\n"
    }
   },
   "source": [
    "# The EventSeries class"
   ]
  },
  {
   "cell_type": "markdown",
   "id": "aa45b0e1",
   "metadata": {
    "pycharm": {
     "name": "#%% md\n"
    }
   },
   "source": [
    "### Import and Export"
   ]
  },
  {
   "cell_type": "markdown",
   "id": "d80628d2",
   "metadata": {
    "pycharm": {
     "name": "#%% md\n"
    }
   },
   "source": [
    "Place these events in an EventSeries, starting at timestamp 0 and ending after a duration of 200.\n",
    "We can immediately plot the event series."
   ]
  },
  {
   "cell_type": "code",
   "execution_count": null,
   "id": "ad9fdeec",
   "metadata": {
    "pycharm": {
     "name": "#%%\n"
    }
   },
   "outputs": [],
   "source": [
    "events = event_handling.EventSeries([event_a, event_b], duration=200)\n",
    "plt.subplots(figsize=(10,1))\n",
    "events.plot()"
   ]
  },
  {
   "cell_type": "markdown",
   "id": "81d5ceaa",
   "metadata": {
    "pycharm": {
     "name": "#%% md\n"
    }
   },
   "source": [
    "We can also export our events as a Dataframe"
   ]
  },
  {
   "cell_type": "code",
   "execution_count": null,
   "id": "6a0e03ca",
   "metadata": {
    "pycharm": {
     "name": "#%%\n"
    }
   },
   "outputs": [],
   "source": [
    "events.as_dataframe()"
   ]
  },
  {
   "cell_type": "markdown",
   "id": "9f3430e3",
   "metadata": {
    "pycharm": {
     "name": "#%% md\n"
    }
   },
   "source": [
    "... or as a boolean array"
   ]
  },
  {
   "cell_type": "code",
   "execution_count": null,
   "id": "19f7ff7d",
   "metadata": {
    "pycharm": {
     "name": "#%%\n"
    }
   },
   "outputs": [],
   "source": [
    "events.as_bools()"
   ]
  },
  {
   "cell_type": "markdown",
   "id": "2927f643",
   "metadata": {
    "pycharm": {
     "name": "#%% md\n"
    }
   },
   "source": [
    "An EventSeries object may also be created from a boolean array. Notably, this can be a more efficient way to store long boolean event time series data, because we capture only the transitions as Events."
   ]
  },
  {
   "cell_type": "code",
   "execution_count": null,
   "id": "7af08b65",
   "metadata": {
    "pycharm": {
     "name": "#%%\n"
    }
   },
   "outputs": [],
   "source": [
    "my_bool_array = np.random.random(20) > .5\n",
    "my_bool_array[-1] = my_bool_array[-2]  # make sure we have at least two contiguous timestamps at the end\n",
    "print(f\"As a raw boolean array: {my_bool_array}\\n\")\n",
    "events2 = event_handling.EventSeries.from_bools(my_bool_array)\n",
    "print(f\"As an EventSeries object: {events2}\")"
   ]
  },
  {
   "cell_type": "markdown",
   "id": "3526166f",
   "metadata": {
    "pycharm": {
     "name": "#%% md\n"
    }
   },
   "source": [
    "### List operations"
   ]
  },
  {
   "cell_type": "markdown",
   "id": "cea152c0",
   "metadata": {
    "pycharm": {
     "name": "#%% md\n"
    }
   },
   "source": [
    "Because the EventSeries class inherits from the list class, it's easy to perform list operations with Event objects."
   ]
  },
  {
   "cell_type": "code",
   "execution_count": null,
   "id": "59d98d86",
   "metadata": {
    "pycharm": {
     "name": "#%%\n"
    }
   },
   "outputs": [],
   "source": [
    "print(len(events))\n",
    "print(events[-1].duration)\n",
    "last_event = events.pop()\n",
    "print(events)\n",
    "events.append(last_event)\n",
    "print(events)"
   ]
  },
  {
   "cell_type": "markdown",
   "id": "331e5031",
   "metadata": {
    "pycharm": {
     "name": "#%% md\n"
    }
   },
   "source": [
    "The \"resolve_events\" functionality of the EventSeries class efficiently sorts and combines overlapping events within the same time series, ensuring there are no duplicates. Currently, the list operations are not programmed to execute this function automatically."
   ]
  },
  {
   "cell_type": "code",
   "execution_count": null,
   "id": "e0653f06",
   "metadata": {
    "pycharm": {
     "name": "#%%\n"
    }
   },
   "outputs": [],
   "source": [
    "events.append(event_handling.Event(122, 127))\n",
    "events.append(event_handling.Event(120, 123))\n",
    "events.append(event_handling.Event(0,8))\n",
    "events.append(event_handling.Event(20,30))\n",
    "events.append(event_handling.Event(25,75))\n",
    "\n",
    "fig, axs = plt.subplots(2,1, figsize=(10,4))\n",
    "plt.axes(axs[0])\n",
    "events.plot()\n",
    "print(f\"Before resolution: {events}\\n\")\n",
    "\n",
    "plt.axes(axs[1])\n",
    "events.plot()\n",
    "print(f\"After resolution: {events}\")"
   ]
  },
  {
   "cell_type": "markdown",
   "id": "0cde93ce",
   "metadata": {
    "pycharm": {
     "name": "#%% md\n"
    }
   },
   "source": [
    "There are also some list functions available to us that work on two or more EventSeries objects"
   ]
  },
  {
   "cell_type": "markdown",
   "id": "06f87666",
   "metadata": {
    "pycharm": {
     "name": "#%% md\n"
    }
   },
   "source": [
    "Below, we'll simulate another EventSeries and combine it with our original one via the \"+\" list operator"
   ]
  },
  {
   "cell_type": "code",
   "execution_count": null,
   "id": "31782e21",
   "metadata": {
    "pycharm": {
     "name": "#%%\n"
    }
   },
   "outputs": [],
   "source": [
    "def simulate_event_series(series_duration, event_count, event_max_length):\n",
    "    bools = np.zeros(series_duration, dtype=bool)\n",
    "    ons = np.random.randint(series_duration - event_max_length, size=event_count)\n",
    "    durs = np.random.randint(event_max_length, size=event_count)\n",
    "    for on, dur in zip(ons, durs):\n",
    "        bools[on: on + dur] = True\n",
    "    bools[-1] = bools[-2]  # make sure we have at least two contiguous timestamps at the end\n",
    "    return event_handling.EventSeries.from_bools(bools)"
   ]
  },
  {
   "cell_type": "code",
   "execution_count": null,
   "id": "ab886d7d",
   "metadata": {
    "pycharm": {
     "name": "#%%\n"
    }
   },
   "outputs": [],
   "source": [
    "fig, axs = plt.subplots(3, 1, figsize=(10,3), sharex=True)\n",
    "\n",
    "plt.axes(axs[0])\n",
    "events.plot()\n",
    "plt.title(\"Events\")\n",
    "\n",
    "plt.axes(axs[1])\n",
    "\n",
    "# hint: play with \"seed\" to see different examples\n",
    "np.random.seed(2)\n",
    "\n",
    "events2 = simulate_event_series(int(events.duration), 3, 20)\n",
    "events2.plot()\n",
    "plt.title(\"Events 2\")\n",
    "\n",
    "plt.axes(axs[2])\n",
    "boolean_intersection = events + events2\n",
    "boolean_intersection.plot()\n",
    "plt.title(\"Added\")\n",
    "\n",
    "plt.tight_layout()"
   ]
  },
  {
   "cell_type": "markdown",
   "id": "e760327e",
   "metadata": {
    "pycharm": {
     "name": "#%% md\n"
    }
   },
   "source": [
    "### Logical operators"
   ]
  },
  {
   "cell_type": "code",
   "execution_count": null,
   "id": "682e80f7",
   "metadata": {
    "pycharm": {
     "name": "#%%\n"
    }
   },
   "outputs": [],
   "source": [
    "print(events)\n",
    "print(events2)"
   ]
  },
  {
   "cell_type": "code",
   "execution_count": null,
   "id": "c8bc3c51",
   "metadata": {
    "pycharm": {
     "name": "#%%\n"
    }
   },
   "outputs": [],
   "source": [
    "events & events2"
   ]
  },
  {
   "cell_type": "code",
   "execution_count": null,
   "id": "678d677b",
   "metadata": {
    "pycharm": {
     "name": "#%%\n"
    }
   },
   "outputs": [],
   "source": [
    "events | events2"
   ]
  },
  {
   "cell_type": "code",
   "execution_count": null,
   "id": "1db99520",
   "metadata": {
    "pycharm": {
     "name": "#%%\n"
    },
    "scrolled": true
   },
   "outputs": [],
   "source": [
    "events[0] == event_handling.Event(0, 8)"
   ]
  },
  {
   "cell_type": "markdown",
   "id": "bb7feffb",
   "metadata": {
    "pycharm": {
     "name": "#%% md\n"
    }
   },
   "source": [
    "### Statistics"
   ]
  },
  {
   "cell_type": "markdown",
   "id": "466c7eb2",
   "metadata": {
    "pycharm": {
     "name": "#%% md\n"
    }
   },
   "source": [
    "By leveraging the aforementioned \"overlaps\" functionality of the Event class, we can start performing quantitative analytics directly on a pair of EventSeries objects. For instance, we can generate an agreement table between two EventSeries."
   ]
  },
  {
   "cell_type": "code",
   "execution_count": null,
   "id": "52bc5a88",
   "metadata": {
    "pycharm": {
     "name": "#%%\n"
    },
    "scrolled": true
   },
   "outputs": [],
   "source": [
    "events.compute_agreement(events2, normalize=False)"
   ]
  },
  {
   "cell_type": "markdown",
   "id": "bf85d9df",
   "metadata": {
    "pycharm": {
     "name": "#%% md\n"
    }
   },
   "source": [
    "We can manipulate the Event tolerances to be much more strict..."
   ]
  },
  {
   "cell_type": "code",
   "execution_count": null,
   "id": "16d73692",
   "metadata": {
    "pycharm": {
     "name": "#%%\n"
    }
   },
   "outputs": [],
   "source": [
    "tol = event_handling.OverlapTolerances(ratio_on=.1)\n",
    "events.set_tolerances(tol)\n",
    "events.compute_agreement(events2, normalize=False)"
   ]
  },
  {
   "cell_type": "markdown",
   "id": "6880c0a0",
   "metadata": {
    "pycharm": {
     "name": "#%% md\n"
    }
   },
   "source": [
    "We can generate an epoch-wise confusion matrix"
   ]
  },
  {
   "cell_type": "code",
   "execution_count": null,
   "id": "a3f49c4a",
   "metadata": {
    "pycharm": {
     "name": "#%%\n"
    }
   },
   "outputs": [],
   "source": [
    "events.epoch_confusion_matrix(events2, normalize=None)"
   ]
  },
  {
   "cell_type": "markdown",
   "id": "e5fc7bd0",
   "metadata": {
    "pycharm": {
     "name": "#%% md\n"
    }
   },
   "source": [
    "We can also generate an event-wise confusion matrix, although the TN is always 0, given that it's difficult to define a truly-identified non-event:"
   ]
  },
  {
   "cell_type": "code",
   "execution_count": null,
   "id": "b5a0b9dd",
   "metadata": {
    "pycharm": {
     "name": "#%%\n"
    }
   },
   "outputs": [],
   "source": [
    "events.event_confusion_matrix(events2, normalize=None)"
   ]
  },
  {
   "cell_type": "markdown",
   "id": "d6f72aa6",
   "metadata": {
    "pycharm": {
     "name": "#%% md\n"
    }
   },
   "source": [
    "# The Hypnogram class"
   ]
  },
  {
   "cell_type": "markdown",
   "id": "cf2f8268",
   "metadata": {
    "pycharm": {
     "name": "#%% md\n"
    }
   },
   "source": [
    "The EventStack class enables handling of multiple contemporaneous EventSeries objects which pertain to different conditions. This is achieved by subclassing the 'dict' class.\n",
    "\n",
    "A good example of an EventStack is the Hypnogram:"
   ]
  },
  {
   "cell_type": "code",
   "execution_count": null,
   "id": "21a1eff4",
   "metadata": {
    "pycharm": {
     "name": "#%%\n"
    }
   },
   "outputs": [],
   "source": [
    "from tests import utils\n",
    "hypno = utils.simulate_hypnogram(series_duration=200, num_cycles=5, avg_duration=5, seed=3)\n",
    "fig = hypno.plot()\n",
    "plt.title(\"Hypnogram\")"
   ]
  },
  {
   "cell_type": "markdown",
   "source": [
    "Now let's compare two hypnograms"
   ],
   "metadata": {
    "collapsed": false,
    "pycharm": {
     "name": "#%% md\n"
    }
   }
  },
  {
   "cell_type": "code",
   "execution_count": null,
   "id": "cc6577d8",
   "metadata": {
    "pycharm": {
     "name": "#%%\n"
    }
   },
   "outputs": [],
   "source": [
    "true = hypno.as_array()\n",
    "pred = [hypnogram.SleepStages(c) for c in np.roll(true, 2)]\n",
    "other = hypnogram.Hypnogram.from_array(pred)\n",
    "fig = hypno.plot()\n",
    "fig = other.plot()"
   ]
  },
  {
   "cell_type": "markdown",
   "source": [
    "On a per-epoch basis..."
   ],
   "metadata": {
    "collapsed": false,
    "pycharm": {
     "name": "#%% md\n"
    }
   }
  },
  {
   "cell_type": "code",
   "execution_count": null,
   "id": "e92e5c9d",
   "metadata": {
    "pycharm": {
     "name": "#%%\n"
    }
   },
   "outputs": [],
   "source": [
    "hypno.epoch_confusion_matrix(other)"
   ]
  },
  {
   "cell_type": "markdown",
   "source": [
    "Or on a per-event basis..."
   ],
   "metadata": {
    "collapsed": false,
    "pycharm": {
     "name": "#%% md\n"
    }
   }
  },
  {
   "cell_type": "code",
   "execution_count": null,
   "id": "12af9fe5",
   "metadata": {
    "pycharm": {
     "name": "#%%\n"
    }
   },
   "outputs": [],
   "source": [
    "tol = event_handling.OverlapTolerances(ratio_on=.2, ratio_off=.2)\n",
    "hypno.set_tolerances(tol)\n",
    "hypno.event_confusion_matrix(other)\n"
   ]
  }
 ],
 "metadata": {
  "kernelspec": {
   "display_name": "Python 3 (ipykernel)",
   "language": "python",
   "name": "python3"
  },
  "language_info": {
   "codemirror_mode": {
    "name": "ipython",
    "version": 3
   },
   "file_extension": ".py",
   "mimetype": "text/x-python",
   "name": "python",
   "nbconvert_exporter": "python",
   "pygments_lexer": "ipython3",
   "version": "3.9.6"
  }
 },
 "nbformat": 4,
 "nbformat_minor": 5
}
